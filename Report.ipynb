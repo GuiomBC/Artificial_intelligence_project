{
 "cells": [
  {
   "cell_type": "markdown",
   "metadata": {},
   "source": [
    "# INFO-H410 : Project report  \n",
    "\n",
    "## Introduction  \n",
    "\n",
    "    Protein synthesis is a complex mechanism well studied over the years (Miller 2001). A lot of those proteins that are produced by cells are excreted into the extracellular environment (Benham 2012) to allow interaction between cells in an organism (Yoshitaka Shirasaki 2014). The secretion process include endoplasmic reticulum and the Golgi apparatus (Stephanie J. Popa 2019) and involve proteins at the cell membrane like SNARE protein (Ferro-Novick 2013). Specific peptide sequences are recognized to control the pathway of those proteins. Those peptides are called signal peptides which are often small with a length between 15 and 30 amino acids (Benham 2012, Klatt 2012) and are removed after send to their final site (Peng Chong 2019). Signal peptides are formed by three regions: a positively charged region, a hydrophobic region and a region with the cleavage site. Secretory signal peptides are signal peptide corresponding to the secretory pathway and often situated in the N-terminal region. A change of only 2 to 4 amino acid can modify the entire pathway of the protein (Klatt 2012, Peng Chong 2019). The sequence is important to determine the pathway but also the charges (Yoshinori Tsuchiya 2003) thus, the prediction of the final location of protein is complex.  \n",
    "    \n",
    "    Understanding the signal peptide code has multiple uses. Knowing what protein are secreted could be useful for medical application or industrial production of protein (Peng Chong 2019). Therefore, the prediction of the peptide signal and the corresponding pathway are of great interest and developing a tool is the purpose of this work.  \n",
    "    \n",
    "    Here, the aim is to use technique of artificial intelligence to make a statistical representation of the peptide based on referenced proteins and predict the capability of such protein to get through the membrane or to stay into the cytoplasm.  \n",
    "    \n",
    "    \n",
    "## References\n",
    "\n",
    "Benham, Adam M. “Protein Secretion and the EndoplasmicReticulum.” Cold Spring Harb Perspect Biol 4 (2012).\n",
    "Ferro-Novick, Susan and Brose, Nils. “Traffic control system within cells.” Nature 504 (2013): 98.  \n",
    "\n",
    "Klatt, Stephan, and Zoltán Konthur. “Secretory signal peptide modification for optimized antibody-fragment expression-secretion in Leishmania tarentolae.” Microbial cell factories 11 (2012): 97.  \n",
    "\n",
    "Miller, Jefferey H. “Protein Synthesis.” In Encyclopedia of Genetics, by Sydney and Millern Jefferey H. Brenner, 1567. New York: Academic Press, 2001.  \n",
    "\n",
    "Peng Chong, Shi Chaoshuo, Cao Xue, Li Yu, Liu Fufeng, Lu Fuping. “Factors Influencing Recombinant Protein Secretion Efficiency in Gram-Positive Bacteria: Signal Peptide and Beyond.” Frontiers in Bioengineering and Biotechnology 7 (2019): 139.  \n",
    "\n",
    "Stephanie J. Popa, Julien Villeneuve, Sarah Stewart, Esther Perez Garcia, Anna Petrunkina Harrison, Kevin Moreau. “ Genome-wide CRISPR screening identifies new regulators of glycoprotein secretion.” bioRxiv , 2019: 522334.  \n",
    "\n",
    "Yoshinori Tsuchiya, Kazuki Morioka, Junsuke Shirai, Yuichi Yokomizo and Kazuo Yoshida. “Gene design of signal sequence for effective secretion of protein.” Nucleic Acids Research Supplenzent 3 (2003): 261 -262.  \n",
    "\n",
    "Yoshitaka Shirasaki, Mai Yamagishi, Nobutake Suzuki, Kazushi Izawa, Asahi Nakahara, Jun Mizuno, Shuichi Shoji, Toshio Heike, Yoshie Harada, Ryuta Nishikomori, Osamu Ohara. “Real-time single-cell imaging of proteinsecretion.” Scientific Report 4 (2014): 4736.\n",
    "\n",
    "\n",
    "\n",
    "\n"
   ]
  },
  {
   "cell_type": "code",
   "execution_count": null,
   "metadata": {},
   "outputs": [],
   "source": []
  },
  {
   "cell_type": "markdown",
   "metadata": {},
   "source": [
    "# Title\n",
    "\n",
    "## Title suggestions\n",
    "* Improvement of subcellular location prediction with UniRep.\n",
    "\n",
    "Buisson-Chavot Guillaume \n",
    "Cnudde Anthony\n",
    "Ody Jessica\n",
    "Van den Schilden Jan\n",
    "\n",
    "30-06-2020"
   ]
  },
  {
   "cell_type": "markdown",
   "metadata": {},
   "source": [
    "## 0. Abstract"
   ]
  },
  {
   "cell_type": "markdown",
   "metadata": {},
   "source": [
    "## Introduction  (Jessica)\n",
    "\n",
    "       \n",
    "    \n",
    "    Therefore, the prediction of the peptide signal and the corresponding pathway are of great interest and developing a tool is the purpose of this work.  \n",
    "    \n",
    "    Here, the aim is to use technique of artificial intelligence to make a statistical representation of the peptide based on referenced proteins and predict the capability of such protein to get through the membrane or to stay into the cytoplasm. "
   ]
  },
  {
   "cell_type": "markdown",
   "metadata": {},
   "source": [
    "## 1. Introduction"
   ]
  },
  {
   "cell_type": "markdown",
   "metadata": {},
   "source": [
    "<!--Part why knowing is important -->\n",
    "Protein synthesis (Miller 2001) and subsequent subcellular localization involves complex mechanisms frequently studied over the years .\n",
    "Many of these synthesized proteins are excreted into the extracellular environment (Benham 2012).\n",
    "Such extracellular proteins allow cells to interact with the outside world or other cells.\n",
    "Without, multicellular organisms would be unable intercellular interactions to form tissues and body parts (Yoshitaka Shirasaki 2014).\n",
    "But also in bacterial cells there can be up to a third non-cytoplasmic proteins (Orfanoudaki 2017).\n",
    "There is a lot of interest on how to distinguish secreted from cytoplasmic proteins,\n",
    "especially for those expressing recombinant proteins.\n",
    "This is often seen in the medical sector or for the industrial production protein (Peng Chong 2019)."
   ]
  },
  {
   "cell_type": "markdown",
   "metadata": {},
   "source": [
    "<!--Part about Signal peptides-->\n",
    "Signal peptides are short peptide sequences between 15 and 30 residues at the N-terminal end of the protein that are recognized by cell pathways to excrete the protein (Benham 2012, Klatt 2012).\n",
    "During transit, the signal peptide is cleaved off the protein (Peng Chong 2019).\n",
    "Even though signal peptides display low evolutionary sequential similarity,\n",
    "the underlying biophysical properties display an high degree of conservation (Orfanoudaki 2017).\n",
    "It consists of three regions: a positively charged region, a hydrophobic region, and a region with the cleavage site (Klatt 2012, Peng Chong 2019).\n",
    "Software like SignalP-5.0 use deep neural networks to recognize these signal peptides and predict cellular localization (Armenteros 2019)."
   ]
  },
  {
   "cell_type": "markdown",
   "metadata": {},
   "source": [
    "<!-- Part about other intrinsic factors-->\n",
    "Even though signal peptides are often necessary for protein excretion,\n",
    "they are in themselves insufficient.\n",
    "Other features, \n",
    "such as secondary structure propensity,\n",
    "dynamics,\n",
    "and amino acid composition,\n",
    "play an important role in determining protein location.\n",
    "Predictors that use these features have been reported with an success rate of 95.5% success (Loos 2019)."
   ]
  },
  {
   "cell_type": "markdown",
   "metadata": {},
   "source": [
    "<!-- Part about Signal peptide and why not enought-->\n",
    "1. SP ML tool accuracy of 95.5 %\n",
    "2. Other intrinsic features also important\n",
    "\n",
    "### Part about Unirep\n",
    "1. Unsupervised feature extraction\n",
    "2. Fixed length representation\n",
    "\n",
    "### Part in what it is introduced what we will do\n",
    "short summary"
   ]
  },
  {
   "cell_type": "markdown",
   "metadata": {},
   "source": [
    "## 2. Methods\n",
    "\n",
    "### Part about Multiple linear regression\n",
    "\n",
    "### Part about Decision tree\n",
    "\n",
    "### Part about Random forest\n",
    "\n",
    "### Part about SVM\n",
    "\n",
    "### Part about Neural Network "
   ]
  },
  {
   "cell_type": "markdown",
   "metadata": {},
   "source": [
    "## 3. Results and Discussion \n",
    "\n",
    "### Show results\n",
    "\n",
    "### Summary and comparison with other tools"
   ]
  },
  {
   "cell_type": "markdown",
   "metadata": {},
   "source": [
    "## 4. Conclusion\n",
    "(small summary here)"
   ]
  },
  {
   "cell_type": "markdown",
   "metadata": {},
   "source": [
    "## 5. References\n",
    "Benham, Adam M. “Protein Secretion and the EndoplasmicReticulum.” Cold Spring Harb Perspect Biol 4 (2012).\n",
    "Ferro-Novick, Susan and Brose, Nils. “Traffic control system within cells.” Nature 504 (2013): 98.  \n",
    "\n",
    "Klatt, Stephan, and Zoltán Konthur. “Secretory signal peptide modification for optimized antibody-fragment expression-secretion in Leishmania tarentolae.” Microbial cell factories 11 (2012): 97.  \n",
    "\n",
    "Miller, Jefferey H. “Protein Synthesis.” In Encyclopedia of Genetics, by Sydney and Millern Jefferey H. Brenner, 1567. New York: Academic Press, 2001.  \n",
    "\n",
    "Peng Chong, Shi Chaoshuo, Cao Xue, Li Yu, Liu Fufeng, Lu Fuping. “Factors Influencing Recombinant Protein Secretion Efficiency in Gram-Positive Bacteria: Signal Peptide and Beyond.” Frontiers in Bioengineering and Biotechnology 7 (2019): 139.  \n",
    "\n",
    "Stephanie J. Popa, Julien Villeneuve, Sarah Stewart, Esther Perez Garcia, Anna Petrunkina Harrison, Kevin Moreau. “ Genome-wide CRISPR screening identifies new regulators of glycoprotein secretion.” bioRxiv , 2019: 522334.  \n",
    "\n",
    "Yoshinori Tsuchiya, Kazuki Morioka, Junsuke Shirai, Yuichi Yokomizo and Kazuo Yoshida. “Gene design of signal sequence for effective secretion of protein.” Nucleic Acids Research Supplenzent 3 (2003): 261 -262.  \n",
    "\n",
    "Yoshitaka Shirasaki, Mai Yamagishi, Nobutake Suzuki, Kazushi Izawa, Asahi Nakahara, Jun Mizuno, Shuichi Shoji, Toshio Heike, Yoshie Harada, Ryuta Nishikomori, Osamu Ohara. “Real-time single-cell imaging of proteinsecretion.” Scientific Report 4 (2014): 4736.\n",
    "\n",
    "Orfanoudaki, G., Markaki, M., Chatzi, K. et al. MatureP: prediction of secreted proteins with exclusive information from their mature regions. Sci Rep 7, 3263 (2017). https://doi.org/10.1038/s41598-017-03557-4\n",
    "\n",
    "Almagro Armenteros, J.J., Tsirigos, K.D., Sønderby, C.K. et al. SignalP 5.0 improves signal peptide predictions using deep neural networks. Nat Biotechnol 37, 420–423 (2019). https://doi.org/10.1038/s41587-019-0036-z\n",
    "\n",
    "Loos, Maria, et al. \"Structural basis of the sub-cellular topology landscape of Escherichia coli.\" Frontiers in microbiology 10 (2019): 1670."
   ]
  },
  {
   "cell_type": "markdown",
   "metadata": {},
   "source": [
    "## 6. Appendix"
   ]
  }
 ],
 "metadata": {
  "kernelspec": {
   "display_name": "Python 3",
   "language": "python",
   "name": "python3"
  },
  "language_info": {
   "codemirror_mode": {
    "name": "ipython",
    "version": 3
   },
   "file_extension": ".py",
   "mimetype": "text/x-python",
   "name": "python",
   "nbconvert_exporter": "python",
   "pygments_lexer": "ipython3",
   "version": "3.6.9"
  }
 },
 "nbformat": 4,
 "nbformat_minor": 4
}
