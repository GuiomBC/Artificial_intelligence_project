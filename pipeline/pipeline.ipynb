{
 "cells": [
  {
   "cell_type": "markdown",
   "metadata": {},
   "source": [
    "# Pipeline"
   ]
  },
  {
   "cell_type": "code",
   "execution_count": 1,
   "metadata": {},
   "outputs": [
    {
     "name": "stderr",
     "output_type": "stream",
     "text": [
      "/home/anthony/anaconda3/lib/python3.6/site-packages/tensorflow/python/framework/dtypes.py:458: FutureWarning: Passing (type, 1) or '1type' as a synonym of type is deprecated; in a future version of numpy, it will be understood as (type, (1,)) / '(1,)type'.\n",
      "  _np_qint8 = np.dtype([(\"qint8\", np.int8, 1)])\n",
      "/home/anthony/anaconda3/lib/python3.6/site-packages/tensorflow/python/framework/dtypes.py:459: FutureWarning: Passing (type, 1) or '1type' as a synonym of type is deprecated; in a future version of numpy, it will be understood as (type, (1,)) / '(1,)type'.\n",
      "  _np_quint8 = np.dtype([(\"quint8\", np.uint8, 1)])\n",
      "/home/anthony/anaconda3/lib/python3.6/site-packages/tensorflow/python/framework/dtypes.py:460: FutureWarning: Passing (type, 1) or '1type' as a synonym of type is deprecated; in a future version of numpy, it will be understood as (type, (1,)) / '(1,)type'.\n",
      "  _np_qint16 = np.dtype([(\"qint16\", np.int16, 1)])\n",
      "/home/anthony/anaconda3/lib/python3.6/site-packages/tensorflow/python/framework/dtypes.py:461: FutureWarning: Passing (type, 1) or '1type' as a synonym of type is deprecated; in a future version of numpy, it will be understood as (type, (1,)) / '(1,)type'.\n",
      "  _np_quint16 = np.dtype([(\"quint16\", np.uint16, 1)])\n",
      "/home/anthony/anaconda3/lib/python3.6/site-packages/tensorflow/python/framework/dtypes.py:462: FutureWarning: Passing (type, 1) or '1type' as a synonym of type is deprecated; in a future version of numpy, it will be understood as (type, (1,)) / '(1,)type'.\n",
      "  _np_qint32 = np.dtype([(\"qint32\", np.int32, 1)])\n",
      "/home/anthony/anaconda3/lib/python3.6/site-packages/tensorflow/python/framework/dtypes.py:465: FutureWarning: Passing (type, 1) or '1type' as a synonym of type is deprecated; in a future version of numpy, it will be understood as (type, (1,)) / '(1,)type'.\n",
      "  np_resource = np.dtype([(\"resource\", np.ubyte, 1)])\n"
     ]
    }
   ],
   "source": [
    "import sys\n",
    "import pandas as pd\n",
    "import subprocess\n",
    "from tqdm import tqdm\n",
    "import tensorflow as tf  # Make sure version 1.3.0 is installed\n",
    "import numpy as np\n",
    "import os\n",
    "# Imports the mLSTM babbler model, for unirep vector generation.\n",
    "from utils_2 import uniprotRetrieve\n",
    "from unirep import babbler64 as babbler\n",
    "# Imports the neural network, for classification.\n",
    "import shallow_nn as nn\n",
    "# Imports tools for sequence query and parsing.\n",
    "from Bio import Entrez, SeqIO"
   ]
  },
  {
   "cell_type": "code",
   "execution_count": 12,
   "metadata": {},
   "outputs": [],
   "source": [
    "\"\"\" Imports unirep and classifier models \"\"\"\n",
    "\n",
    "def unirep_model():\n",
    "    # Where model weights are stored.\n",
    "    MODEL_WEIGHT_PATH = \"./64_weights\"\n",
    "    # Generates the model.\n",
    "    batch_size = 12\n",
    "    b = babbler(batch_size=batch_size, model_path=MODEL_WEIGHT_PATH)\n",
    "    return b\n",
    "\n",
    "def load_classifier():\n",
    "    \"\"\"\n",
    "    Loads the classifier model.\n",
    "    \"\"\"\n",
    "    # Imports model weights and biases.\n",
    "    weights = np.load('weights.npy', allow_pickle=True)\n",
    "    biases = np.load('biases.npy', allow_pickle=True)\n",
    "    # Generates a classifier with given weights and biases.\n",
    "    classifier = nn.ShallowNetwork([64, 22, 2])\n",
    "    classifier.weights = weights\n",
    "    classifier.biases = biases\n",
    "    return classifier"
   ]
  },
  {
   "cell_type": "code",
   "execution_count": 3,
   "metadata": {},
   "outputs": [],
   "source": [
    "\"\"\" Function to scale the target with same factor as training \"\"\"\n",
    "\n",
    "def scale_vector(vector):\n",
    "    \"\"\"\n",
    "    Apply the scaling factor used on the training set in the laerning phase\n",
    "    to the vector to be predicted.\n",
    "    \"\"\"\n",
    "    # Standard deviation for each feature.\n",
    "    scale_factor = np.load('scale_factor.npy', allow_pickle=True)\n",
    "    # Mean for each feature\n",
    "    mean_vector = np.load('scale_mean.npy', allow_pickle=True)\n",
    "    # Scales the new vector using training parameters.\n",
    "    return (vector - mean_vector) / scale_factor"
   ]
  },
  {
   "cell_type": "code",
   "execution_count": 4,
   "metadata": {},
   "outputs": [],
   "source": [
    "\"\"\" Query part \"\"\"\n",
    "\n",
    "def query_protein(query_terms, email=None):\n",
    "    \"\"\"\n",
    "    Queries the protein database and returns the ID's of the hit.\n",
    "\n",
    "    An interface allows to show all the hits from the given query, and to select\n",
    "    one of them to get it's sequence.\n",
    "    \"\"\"\n",
    "    # Query phase.\n",
    "    # Email used to be contacted in case of abuse.\n",
    "    Entrez.email = email\n",
    "    # Terms to be searched.\n",
    "    query = query_terms\n",
    "    # Queries and parse the results. \n",
    "    handle = Entrez.esearch(db=\"protein\", term=query, limit=10)\n",
    "    records = Entrez.read(handle)\n",
    "    # List of hits ID's\n",
    "    id_list = records['IdList']\n",
    "    handle.close()\n",
    "    # Selection phase, user is invited to select the hit of interest.\n",
    "    select = -2\n",
    "    # Prints informations about the hits.\n",
    "    for i, each_id in enumerate(id_list):\n",
    "        fasta = Entrez.efetch(db=\"protein\", id=each_id, rettype=\"fasta\")\n",
    "        fasta_record = SeqIO.read(fasta, \"fasta\")\n",
    "        print(f'{i}: {each_id}| {fasta_record.description}')\n",
    "    # Selection phase.\n",
    "    # -2 means no correct input has been entered.\n",
    "    while select == -2:\n",
    "        # Asks user to give an integer input, and checks if this integer is\n",
    "        # a valid index for the list of hits.\n",
    "        select = int(input(\"Enter desired sequence number. Type -1 to leave. \"))\n",
    "        if select not in range(len(id_list)):\n",
    "            # If value is -1, exit the program successfully.\n",
    "            if select == -1:\n",
    "                raise ValueError(\"End of query\")\n",
    "            # If value is not valid, prints an error message, and asks again.\n",
    "            select = -2\n",
    "            print(\"Wrong number\")\n",
    "    return id_list[select]"
   ]
  },
  {
   "cell_type": "code",
   "execution_count": 5,
   "metadata": {},
   "outputs": [],
   "source": [
    "\"\"\" Retrieves sequence from ID \"\"\"\n",
    "\n",
    "def get_sequence(prot_id):\n",
    "    \"\"\"\n",
    "    Gets the amino-acid sequence of the protein of interest.\n",
    "    \"\"\"\n",
    "    fasta = Entrez.efetch(db=\"protein\", id=prot_id, rettype=\"fasta\")\n",
    "    fasta_record = SeqIO.read(fasta, \"fasta\")\n",
    "    return fasta_record.seq"
   ]
  },
  {
   "cell_type": "code",
   "execution_count": 18,
   "metadata": {},
   "outputs": [],
   "source": [
    "\"\"\" Main function \"\"\"\n",
    "\n",
    "def unirep_vectorize(model, classifier, protein_id='556503394',\n",
    "                     query_terms=False, email='ancnudde@ulb.ac.be'):\n",
    "    \"\"\"\n",
    "    Queries protein database, then uses the mLSTM model to generate the unirep \n",
    "    vector.\n",
    "    \"\"\"\n",
    "    translate_prediction = {0: 'Periplasmic', 1:'Cytoplasmic'}\n",
    "    # If query term is entered, queries the database.\n",
    "    if query_terms:\n",
    "        query_id = query_protein(query_terms, email)\n",
    "    # If protein ID is given, skips query.\n",
    "    elif protein_id:\n",
    "        query_id = protein_id\n",
    "    # Retrieves the sequence from the ID.\n",
    "    sequence = get_sequence(query_id)\n",
    "    # Get UniRep vector from the sequence.\n",
    "    vector = model.get_rep(sequence)[0]\n",
    "    # Scales the vector.\n",
    "    scaled_vector = scale_vector(vector).reshape(-1, 1)\n",
    "    # Makes prediction.\n",
    "    prediction = classifier.predict(scaled_vector)\n",
    "    return translate_prediction[prediction]"
   ]
  },
  {
   "cell_type": "markdown",
   "metadata": {},
   "source": [
    "First, we generate the unirep and the neural network models to be used."
   ]
  },
  {
   "cell_type": "code",
   "execution_count": 10,
   "metadata": {},
   "outputs": [
    {
     "name": "stdout",
     "output_type": "stream",
     "text": [
      "<shallow_nn.ShallowNetwork object at 0x7ff8ab16e860>\n"
     ]
    }
   ],
   "source": [
    "uni = unirep_model()\n",
    "net = load_classifier()"
   ]
  },
  {
   "cell_type": "markdown",
   "metadata": {},
   "source": [
    "Then, we call the main function. The first possible way to use it is to provide a protein identifier. This way, it just retrieves the sequence of the protein associated with this ID, vectorize it, scales the vector and use it as input of the classifier."
   ]
  },
  {
   "cell_type": "code",
   "execution_count": 13,
   "metadata": {},
   "outputs": [
    {
     "name": "stderr",
     "output_type": "stream",
     "text": [
      "/home/anthony/anaconda3/lib/python3.6/site-packages/Bio/Entrez/__init__.py:631: UserWarning: \n",
      "Email address is not specified.\n",
      "\n",
      "To make use of NCBI's E-utilities, NCBI requires you to specify your\n",
      "email address with each request.  As an example, if your email address\n",
      "is A.N.Other@example.com, you can specify it as follows:\n",
      "   from Bio import Entrez\n",
      "   Entrez.email = 'A.N.Other@example.com'\n",
      "In case of excessive usage of the E-utilities, NCBI will attempt to contact\n",
      "a user at the email address provided before blocking access to the\n",
      "E-utilities.\n",
      "  UserWarning,\n"
     ]
    },
    {
     "name": "stdout",
     "output_type": "stream",
     "text": [
      "1\n"
     ]
    },
    {
     "data": {
      "text/plain": [
       "'Cytoplasmic'"
      ]
     },
     "execution_count": 13,
     "metadata": {},
     "output_type": "execute_result"
    }
   ],
   "source": [
    "unirep_vectorize(uni, net, protein_id='556503394')"
   ]
  },
  {
   "cell_type": "markdown",
   "metadata": {},
   "source": [
    "Or we can use query terms. This will list entries corresponding to the query, and ask the user to enter the number corresponding to the choosen entry. Then, it retrieves the ID of the protein, and follows the same process as before."
   ]
  },
  {
   "cell_type": "code",
   "execution_count": 24,
   "metadata": {},
   "outputs": [
    {
     "name": "stdout",
     "output_type": "stream",
     "text": [
      "0: 1823210566| WP_166293826.1 chaperonin GroEL [Lysobacter sp. HDW10]\n",
      "1: 1823038960| WP_166209686.1 chaperonin GroEL [Lysobacter sp. YJ15]\n",
      "2: 1698423802| WP_141622416.1 chaperonin GroEL [Lysobacter alkalisoli]\n",
      "3: 1597780029| WP_133479912.1 chaperonin GroEL [Lysobacter segetis]\n",
      "4: 1821134034| QIK80510.1 chaperonin GroEL [Lysobacter sp. HDW10]\n",
      "5: 1796062818| WP_159016573.1 chaperonin GroEL [Lysobacter sp. CHu50b-3-2]\n",
      "6: 1796030061| WP_158984181.1 chaperonin GroEL [Lysobacter panacisoli]\n",
      "7: 1795771114| WP_158732255.1 chaperonin GroEL [Lysobacter sp. SYSU H10001]\n",
      "8: 1425913211| WP_112927536.1 chaperonin GroEL [Lysobacter oculi]\n",
      "9: 1783784838| WP_156639548.1 chaperonin GroEL [Lysobacter sp. HX-5-24]\n",
      "10: 1740894305| WP_149353281.1 chaperonin GroEL [Lysobacter sp. UKS-15]\n",
      "11: 1718403133| WP_144814963.1 chaperonin GroEL [Lysobacter ruishenii]\n",
      "12: 1713065202| WP_143879244.1 chaperonin GroEL [Lysobacter lycopersici]\n",
      "13: 1698144575| WP_141516746.1 chaperonin GroEL [Lysobacter aestuarii]\n",
      "14: 1698104442| WP_141481132.1 chaperonin GroEL [Lysobacter maris]\n",
      "15: 1597802066| WP_133499451.1 chaperonin GroEL [Lysobacter sp. 17J7-1]\n",
      "16: 1592427609| WP_132329609.1 chaperonin GroEL [Lysobacter sp. N42]\n",
      "17: 1518809085| WP_123649679.1 chaperonin GroEL [Lysobacter enzymogenes]\n",
      "18: 1511858623| WP_123088997.1 chaperonin GroEL [Lysobacter sp. ZS60]\n",
      "19: 1501491608| WP_122102137.1 chaperonin GroEL [Lysobacter pythonis]\n",
      "Enter desired sequence number. Type -1 to leave. 0\n"
     ]
    },
    {
     "data": {
      "text/plain": [
       "'Cytoplasmic'"
      ]
     },
     "execution_count": 24,
     "metadata": {},
     "output_type": "execute_result"
    }
   ],
   "source": [
    "unirep_vectorize(uni, net, query_terms='10 kda chaperonin lysobacter')"
   ]
  },
  {
   "cell_type": "code",
   "execution_count": 19,
   "metadata": {},
   "outputs": [
    {
     "data": {
      "text/plain": [
       "'Periplasmic'"
      ]
     },
     "execution_count": 19,
     "metadata": {},
     "output_type": "execute_result"
    }
   ],
   "source": [
    "\"\"\" Vibrio serine endoprotease, Periplasmic \"\"\"\n",
    "unirep_vectorize(uni, net, protein_id='1353621482')"
   ]
  },
  {
   "cell_type": "code",
   "execution_count": 22,
   "metadata": {},
   "outputs": [
    {
     "data": {
      "text/plain": [
       "'Periplasmic'"
      ]
     },
     "execution_count": 22,
     "metadata": {},
     "output_type": "execute_result"
    }
   ],
   "source": [
    "\"\"\" Acinetobacter albensis Tol-Pal system protein, Periplasmic \"\"\"\n",
    "unirep_vectorize(uni, net, protein_id='1842549391')"
   ]
  },
  {
   "cell_type": "code",
   "execution_count": 25,
   "metadata": {},
   "outputs": [
    {
     "data": {
      "text/plain": [
       "'Cytoplasmic'"
      ]
     },
     "execution_count": 25,
     "metadata": {},
     "output_type": "execute_result"
    }
   ],
   "source": [
    "\"\"\" Lysobacter 10 kda chaperonin, Cytoplasmic \"\"\"\n",
    "unirep_vectorize(uni, net, protein_id='1823210566')"
   ]
  },
  {
   "cell_type": "code",
   "execution_count": null,
   "metadata": {},
   "outputs": [],
   "source": []
  },
  {
   "cell_type": "code",
   "execution_count": null,
   "metadata": {},
   "outputs": [],
   "source": []
  }
 ],
 "metadata": {
  "kernelspec": {
   "display_name": "Python 3",
   "language": "python",
   "name": "python3"
  },
  "language_info": {
   "codemirror_mode": {
    "name": "ipython",
    "version": 3
   },
   "file_extension": ".py",
   "mimetype": "text/x-python",
   "name": "python",
   "nbconvert_exporter": "python",
   "pygments_lexer": "ipython3",
   "version": "3.6.9"
  }
 },
 "nbformat": 4,
 "nbformat_minor": 2
}
