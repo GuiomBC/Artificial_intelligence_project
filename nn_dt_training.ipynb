{
 "cells": [
  {
   "cell_type": "code",
   "execution_count": 4,
   "metadata": {},
   "outputs": [],
   "source": [
    "import shallow_nn as nn\n",
    "import optimized_tree as tr\n",
    "import numpy as np\n",
    "import matplotlib.pyplot as plt\n",
    "from collections import Counter\n",
    "from sklearn import preprocessing\n",
    "from collections import Counter"
   ]
  },
  {
   "cell_type": "markdown",
   "metadata": {},
   "source": [
    "## Data importation"
   ]
  },
  {
   "cell_type": "markdown",
   "metadata": {},
   "source": [
    "### Parser for the unirep files"
   ]
  },
  {
   "cell_type": "code",
   "execution_count": 5,
   "metadata": {},
   "outputs": [],
   "source": [
    "def read_unirep(file_path):\n",
    "    \"\"\"\n",
    "    Parse a Unirep file.\n",
    "    \"\"\"\n",
    "    data_matrix = []\n",
    "    with open(file_path) as fp:\n",
    "        data = fp.readlines()\n",
    "    for i, line in enumerate(data):\n",
    "        if line[0] == '>':\n",
    "            data_matrix.append(np.array(\n",
    "                data[i + 1].strip().split(sep=' '),\n",
    "                dtype=np.float64))\n",
    "    return np.array(data_matrix)"
   ]
  },
  {
   "cell_type": "markdown",
   "metadata": {},
   "source": [
    "### Dataset creation"
   ]
  },
  {
   "cell_type": "markdown",
   "metadata": {},
   "source": [
    "Here, we will generate a dataset composed of 6000 samples: 3000 cytoplasmic proteins, and 3000 periplasmic proteins. The dataset for each class is first shuffled, then the 3000 first elements of each set are extracted onto the final dataset. This process is equivalent as random selection of samples."
   ]
  },
  {
   "cell_type": "code",
   "execution_count": 6,
   "metadata": {},
   "outputs": [
    {
     "data": {
      "text/plain": [
       "5998"
      ]
     },
     "execution_count": 6,
     "metadata": {},
     "output_type": "execute_result"
    }
   ],
   "source": [
    "# Imports unirep files.\n",
    "raw_cyt = read_unirep(\"cytoxplasmUniRef50(1).unirep\")\n",
    "raw_peri = read_unirep(\"periplasmUniRef50(1).unirep\")\n",
    "# Shuffle imported data.\n",
    "np.random.shuffle(raw_cyt)\n",
    "np.random.shuffle(raw_peri)\n",
    "# Creates mixed dataset (from shuffled = random selection).\n",
    "all_raw = np.concatenate((raw_cyt[0:3000], raw_peri[0:3000]))"
   ]
  },
  {
   "cell_type": "markdown",
   "metadata": {},
   "source": [
    "Then, we scale the data, giving for each feature a mean = 0, and a standard deviation = 1. This makes the learning process easier for certain type of algorithms, for example for neural networks."
   ]
  },
  {
   "cell_type": "code",
   "execution_count": 7,
   "metadata": {},
   "outputs": [
    {
     "name": "stdout",
     "output_type": "stream",
     "text": [
      "1.0000000000000016\n"
     ]
    }
   ],
   "source": [
    "scaled_transfrom = preprocessing.scale(all_raw, axis=0)"
   ]
  },
  {
   "cell_type": "markdown",
   "metadata": {},
   "source": [
    "We then generate the labels for the dataset. The labels are kept in an array of the size of the dataset, and are given the value 1 for cytoplasmic proteins, or 0 for periplasmic ones."
   ]
  },
  {
   "cell_type": "code",
   "execution_count": 8,
   "metadata": {},
   "outputs": [],
   "source": [
    "# Gives value 1 to cytoplasmic proteins, 0 to others.\n",
    "labels = np.zeros(len(all_raw), dtype=int)\n",
    "labels[0:3000] = 1"
   ]
  },
  {
   "cell_type": "markdown",
   "metadata": {},
   "source": [
    "## Neural network training"
   ]
  },
  {
   "cell_type": "markdown",
   "metadata": {},
   "source": [
    "### Data preprocessing"
   ]
  },
  {
   "cell_type": "markdown",
   "metadata": {},
   "source": [
    "The neural network we designed needs a one-hot encoding for the labels. One-hot encoding means that the value is stored in a sparse array, where all the values are 0 except the one corresponding the the class. For example, if there are 5 classes, an item with class 3 will be encoded as follows: [0, 0, 0, 1, 0, 0]. We designed a function that transfroms an array of integers to that format."
   ]
  },
  {
   "cell_type": "code",
   "execution_count": 9,
   "metadata": {},
   "outputs": [],
   "source": [
    "# One hot encoding for neural network.\n",
    "def one_hot(labels):\n",
    "    encoded_labels = []\n",
    "    number_classes = len(set(labels))\n",
    "    for item in labels:\n",
    "        encoded = np.zeros(number_classes, dtype=int)\n",
    "        encoded[item] = 1\n",
    "        encoded_labels.append(encoded)\n",
    "    return np.array(encoded_labels)"
   ]
  },
  {
   "cell_type": "code",
   "execution_count": 10,
   "metadata": {},
   "outputs": [],
   "source": [
    "f_labels = one_hot(labels)"
   ]
  },
  {
   "cell_type": "markdown",
   "metadata": {},
   "source": [
    "Then, the way the network is designed requires the data corresponding to a certain sample to be stored with it's label in an array, giving a dataset on the from [[sample1_values, sample1_label], [sample2_values, sample2_label], ...]. The following function adapts the data to this requirement."
   ]
  },
  {
   "cell_type": "code",
   "execution_count": 11,
   "metadata": {},
   "outputs": [],
   "source": [
    "# Prepares input for neural network.\n",
    "def nn_input_format(dataset, labels):\n",
    "    encoded_data = []\n",
    "    for data, lab in zip(dataset, labels):\n",
    "        value = (data.reshape((-1,1)), lab.reshape((-1,1)))\n",
    "        encoded_data.append(value)\n",
    "    return encoded_data"
   ]
  },
  {
   "cell_type": "code",
   "execution_count": 12,
   "metadata": {},
   "outputs": [
    {
     "data": {
      "text/plain": [
       "64"
      ]
     },
     "execution_count": 12,
     "metadata": {},
     "output_type": "execute_result"
    }
   ],
   "source": [
    "x = nn_input_format(scaled_transfrom, f_labels)"
   ]
  },
  {
   "cell_type": "markdown",
   "metadata": {},
   "source": [
    "### Training step"
   ]
  },
  {
   "cell_type": "markdown",
   "metadata": {},
   "source": [
    "Then, we proceed to training phase. Here, we will try to tune the hyperparameters to get the best accuracy. The parameters we will adjust are: the batch size, the $\\eta$ value which is the learning rate, the $\\lambda$ value which is the regularization parameter."
   ]
  },
  {
   "cell_type": "markdown",
   "metadata": {},
   "source": [
    "#### Cross validation "
   ]
  },
  {
   "cell_type": "markdown",
   "metadata": {},
   "source": [
    "To assess the accuracy of the network, we need to use k-fold cross validation. In k-fold cross validaton, the dataset is divided in k folds, and one fold is used as testing set while the others are used to train the classifier. One this step is done, the process is repeted using another fold as testing set and reimplementing the previous one in training process, and so on until all folds have been use."
   ]
  },
  {
   "cell_type": "code",
   "execution_count": 33,
   "metadata": {},
   "outputs": [],
   "source": [
    "# 10-fold cross validation.\n",
    "def nn_10fold(arch, epoch, eta, batch_size, lbda):\n",
    "    # Shuffle dataset.\n",
    "    np.random.shuffle(x)\n",
    "    n = len(x) / 10  # size of fold.\n",
    "    tot_result = 0\n",
    "    # trains and test on each fold.\n",
    "    for i in range(10):\n",
    "        network = nn.ShallowNetwork(arch)  # Initialize network.\n",
    "        # Test fold.\n",
    "        x_test_1 = x[int(i * n):int((i+1) * n)]\n",
    "        # Train fold.\n",
    "        x_train_1 = x[0:int(i * n)] + x[int((i+1) * n):]\n",
    "        # Training step.\n",
    "        network.stochastic_gradient_descent(x_train_1, epoch, batch_size, eta, lbda)\n",
    "        # Current model score init.\n",
    "        result = 0\n",
    "        # Test phase using test set.\n",
    "        for elt in x_test_1:\n",
    "            result += network.predict(elt[0]) == np.where(elt[1] == 1)[0][0]\n",
    "            result /= len(x_test_1)\n",
    "            tot_result += result  # Adds fold result to total result.\n",
    "    # Averages the results.\n",
    "    final_res = tot_result / 10\n",
    "    return (final_res)"
   ]
  },
  {
   "cell_type": "markdown",
   "metadata": {},
   "source": [
    "#### Eta and batch size"
   ]
  },
  {
   "cell_type": "markdown",
   "metadata": {},
   "source": [
    "First, we will assess the effect of the learning rate $\\eta$ on the accuracy. $\\eta$ is one of the most important parameters in the learning process of neural network. It defines how fast the network will learn from the gradient descent; too low, it will learn very slowly and need a longer training time to be able to make reliable predictions, too high it might miss the optimum by jumping from one side to the other due to too long steps."
   ]
  },
  {
   "cell_type": "markdown",
   "metadata": {},
   "source": [
    "We will try different values of $\\eta$ for different batch size. The batch-size defines how many data points will be used to perform one step of gradien descent. Low batch size will take longer time to train, and larger batch size train the network less well. We use size that are power of 2 for purely computational purposes."
   ]
  },
  {
   "cell_type": "markdown",
   "metadata": {},
   "source": [
    "We will set the last parameter $\\lambda$ to 0.5 for now because of computation time, and because we know be pre-testing it that at least it does not break the learning. We will come back on it afterwards."
   ]
  },
  {
   "cell_type": "code",
   "execution_count": 34,
   "metadata": {},
   "outputs": [],
   "source": [
    "results = []\n",
    "lr = [0.01, 0.05, 0.1, 0.15, 0.2, 0.25, 0.3, 0.5, 0.7, 0.9]\n",
    "for eta in lr:\n",
    "    # Parameter = architecture: 64 inputs, 32hn, 2 outputs(0 or 1).\n",
    "    results.append(nn_10fold([64, 22, 2], 100, eta, 8, 0.5))"
   ]
  },
  {
   "cell_type": "code",
   "execution_count": 35,
   "metadata": {},
   "outputs": [
    {
     "data": {
      "text/plain": [
       "[0.9918138396809553,\n",
       " 0.9938180151640352,\n",
       " 0.9934830095906728,\n",
       " 0.993483846639324,\n",
       " 0.9946521827550742,\n",
       " 0.9941533017714071,\n",
       " 0.9934841262782484,\n",
       " 0.9933169021979833,\n",
       " 0.9943194091633256,\n",
       " 0.9946530198075985]"
      ]
     },
     "execution_count": 35,
     "metadata": {},
     "output_type": "execute_result"
    }
   ],
   "source": [
    "results"
   ]
  },
  {
   "cell_type": "code",
   "execution_count": 36,
   "metadata": {},
   "outputs": [],
   "source": [
    "results_2 = []\n",
    "lr = [0.01, 0.05, 0.1, 0.15, 0.2, 0.25, 0.3, 0.5, 0.7, 0.9]\n",
    "for eta in lr:\n",
    "    # Parameter = architecture: 64 inputs, 32hn, 2 outputs(0 or 1).\n",
    "    results_2.append(nn_10fold([64, 22, 2], 100, eta, 16, 0.5))"
   ]
  },
  {
   "cell_type": "code",
   "execution_count": 37,
   "metadata": {},
   "outputs": [
    {
     "data": {
      "text/plain": [
       "[0.9898096637294949,\n",
       " 0.9923143952341837,\n",
       " 0.9929832915537082,\n",
       " 0.9936513503585171,\n",
       " 0.9929844082420581,\n",
       " 0.9936516295306038,\n",
       " 0.9943196883354133,\n",
       " 0.9946521822913359,\n",
       " 0.9938185744387846,\n",
       " 0.9939855193469664]"
      ]
     },
     "execution_count": 37,
     "metadata": {},
     "output_type": "execute_result"
    }
   ],
   "source": [
    "results_2"
   ]
  },
  {
   "cell_type": "code",
   "execution_count": 38,
   "metadata": {},
   "outputs": [],
   "source": [
    "results_3 = []\n",
    "lr = [0.01, 0.05, 0.1, 0.15, 0.2, 0.25, 0.3, 0.5, 0.7, 0.9]\n",
    "for eta in lr:\n",
    "    # Parameter = architecture: 64 inputs, 32hn, 2 outputs(0 or 1).\n",
    "    results_3.append(nn_10fold([64, 22, 2], 100, eta, 32, 0.5))"
   ]
  },
  {
   "cell_type": "code",
   "execution_count": 39,
   "metadata": {},
   "outputs": [
    {
     "data": {
      "text/plain": [
       "[0.9881413308723073,\n",
       " 0.9913138415413331,\n",
       " 0.9924821776570797,\n",
       " 0.9928163466455301,\n",
       " 0.992817463333879,\n",
       " 0.9936502336701674,\n",
       " 0.9931507948068423,\n",
       " 0.9923163494372504,\n",
       " 0.9929841290699706,\n",
       " 0.9946527406355118]"
      ]
     },
     "execution_count": 39,
     "metadata": {},
     "output_type": "execute_result"
    }
   ],
   "source": [
    "results_3"
   ]
  },
  {
   "cell_type": "code",
   "execution_count": 40,
   "metadata": {},
   "outputs": [
    {
     "data": {
      "text/plain": [
       "[<matplotlib.lines.Line2D at 0x7f52ef2bb2e8>]"
      ]
     },
     "execution_count": 40,
     "metadata": {},
     "output_type": "execute_result"
    },
    {
     "data": {
      "image/png": "[encoded data removed]",
      "text/plain": [
       "<Figure size 432x288 with 1 Axes>"
      ]
     },
     "metadata": {
      "needs_background": "light"
     },
     "output_type": "display_data"
    }
   ],
   "source": [
    "plt.plot(lr, results)\n",
    "plt.plot(lr, results_2)\n",
    "plt.plot(lr, results_3)"
   ]
  },
  {
   "cell_type": "code",
   "execution_count": 41,
   "metadata": {},
   "outputs": [],
   "source": [
    "#nn_10fold([64, 32, 2], 0.2)"
   ]
  },
  {
   "cell_type": "markdown",
   "metadata": {},
   "source": [
    "#### Lambda"
   ]
  },
  {
   "cell_type": "markdown",
   "metadata": {},
   "source": [
    "Then, we can try different values of $\\lambda$ and see how it changes the accuracy. "
   ]
  },
  {
   "cell_type": "code",
   "execution_count": 43,
   "metadata": {},
   "outputs": [],
   "source": [
    "results_4 = []\n",
    "lb = [0.01, 0.03, 0.05, 0.7, 0.1, 0.15, 0.2, 0.25, 0.4, 0.6]\n",
    "for lbd in lb:\n",
    "    results_4.append(nn_10fold([64, 22, 2], 100,  0.2, 8, lbd))"
   ]
  },
  {
   "cell_type": "code",
   "execution_count": 44,
   "metadata": {},
   "outputs": [
    {
     "data": {
      "text/plain": [
       "[0.9934849637945108,\n",
       " 0.9924827360012545,\n",
       " 0.9933174605421572,\n",
       " 0.9938188536108727,\n",
       " 0.994485795727331,\n",
       " 0.9931505156339757,\n",
       " 0.9934846846224229,\n",
       " 0.9938180160953829,\n",
       " 0.9944866332443703,\n",
       " 0.9934844054511105]"
      ]
     },
     "execution_count": 44,
     "metadata": {},
     "output_type": "execute_result"
    }
   ],
   "source": [
    "results_4"
   ]
  },
  {
   "cell_type": "markdown",
   "metadata": {},
   "source": [
    "We can see that the learning is not consistently changed by the regularization parameter, keeping it to 0.5 seems to be a good idea."
   ]
  },
  {
   "cell_type": "markdown",
   "metadata": {},
   "source": [
    "## Decion tree training"
   ]
  },
  {
   "cell_type": "markdown",
   "metadata": {},
   "source": [
    "Now, let's take a look at decision tree."
   ]
  },
  {
   "cell_type": "markdown",
   "metadata": {},
   "source": [
    "### Data preprocessing"
   ]
  },
  {
   "cell_type": "markdown",
   "metadata": {},
   "source": [
    "First, as for this algorithm we will need to use separated data and labels not as in neural network, we need another function to shuffle de data and lables by still keeping them paired."
   ]
  },
  {
   "cell_type": "code",
   "execution_count": 45,
   "metadata": {},
   "outputs": [],
   "source": [
    "# Shuffles data and lables the same way.\n",
    "def unison_shuffled_copies(a, b):\n",
    "    assert len(a) == len(b)\n",
    "    p = np.random.permutation(len(a))\n",
    "    return a[p], b[p]"
   ]
  },
  {
   "cell_type": "markdown",
   "metadata": {},
   "source": [
    "### Training step"
   ]
  },
  {
   "cell_type": "markdown",
   "metadata": {},
   "source": [
    "Here is a simple tree, to see how it presents."
   ]
  },
  {
   "cell_type": "code",
   "execution_count": 46,
   "metadata": {},
   "outputs": [
    {
     "name": "stdout",
     "output_type": "stream",
     "text": [
      "`- Split(feature=41, value=-0.1807, score=0.8765), Classes: {1: 3000, 0: 2998}\n",
      "   |- Split(feature=60, value=-0.7723, score=0.9391), Classes: {1: 2876, 0: 276}\n",
      "   |  |- Split(feature=32, value=-0.8111, score=0.9729), Classes: {0: 196, 1: 20}\n",
      "   |  |  |- Split(feature=50, value=-0.9239, score=1.0), Classes: {1: 18, 0: 1}\n",
      "   |  |  |  |- 0, Classes: {0: 1}\n",
      "   |  |  |  `- 1, Classes: {1: 18}\n",
      "   |  |  `- Split(feature=55, value=-0.414, score=1.0), Classes: {0: 195, 1: 2}\n",
      "   |  |     |- 1, Classes: {1: 2}\n",
      "   |  |     `- 0, Classes: {0: 195}\n",
      "   |  `- Split(feature=33, value=-0.1661, score=0.959), Classes: {1: 2856, 0: 80}\n",
      "   |     |- Split(feature=62, value=-0.6359, score=0.8632), Classes: {1: 22, 0: 32}\n",
      "   |     |  |- Split(feature=2, value=1.5285, score=0.9394), Classes: {1: 20, 0: 2}\n",
      "   |     |  |  |- 1, Classes: {1: 19}\n",
      "   |     |  |  `- 0, Classes: {0: 2, 1: 1}\n",
      "   |     |  `- Split(feature=61, value=0.8879, score=0.9583), Classes: {1: 2, 0: 30}\n",
      "   |     |     |- 0, Classes: {0: 29}\n",
      "   |     |     `- 1, Classes: {1: 2, 0: 1}\n",
      "   |     `- Split(feature=60, value=-0.2299, score=0.9713), Classes: {1: 2834, 0: 48}\n",
      "   |        |- Split(feature=46, value=-0.7649, score=0.8627), Classes: {0: 23, 1: 60}\n",
      "   |        |  |- 1, Classes: {0: 1, 1: 54}\n",
      "   |        |  `- 0, Classes: {0: 22, 1: 6}\n",
      "   |        `- Split(feature=5, value=-1.1497, score=0.9834), Classes: {1: 2774, 0: 25}\n",
      "   |           |- 1, Classes: {1: 6, 0: 4}\n",
      "   |           `- 1, Classes: {1: 2768, 0: 21}\n",
      "   `- Split(feature=42, value=-0.582, score=0.9419), Classes: {0: 2722, 1: 124}\n",
      "      |- Split(feature=62, value=0.8013, score=0.8143), Classes: {1: 67, 0: 45}\n",
      "      |  |- Split(feature=22, value=1.5268, score=0.8571), Classes: {1: 66, 0: 11}\n",
      "      |  |  |- Split(feature=2, value=0.8232, score=0.9203), Classes: {1: 66, 0: 6}\n",
      "      |  |  |  |- 1, Classes: {1: 66, 0: 3}\n",
      "      |  |  |  `- 0, Classes: {0: 3}\n",
      "      |  |  `- 0, Classes: {0: 5}\n",
      "      |  `- Split(feature=63, value=1.0355, score=1.0), Classes: {0: 34, 1: 1}\n",
      "      |     |- 0, Classes: {0: 34}\n",
      "      |     `- 1, Classes: {1: 1}\n",
      "      `- Split(feature=46, value=-0.9913, score=0.9675), Classes: {0: 2677, 1: 57}\n",
      "         |- Split(feature=5, value=-0.2767, score=0.8118), Classes: {0: 9, 1: 18}\n",
      "         |  |- Split(feature=30, value=-0.5621, score=1.0), Classes: {0: 8, 1: 2}\n",
      "         |  |  |- 0, Classes: {0: 8}\n",
      "         |  |  `- 1, Classes: {1: 2}\n",
      "         |  `- Split(feature=50, value=0.2397, score=1.0), Classes: {1: 16, 0: 1}\n",
      "         |     |- 0, Classes: {0: 1}\n",
      "         |     `- 1, Classes: {1: 16}\n",
      "         `- Split(feature=47, value=0.9029, score=0.9755), Classes: {0: 2668, 1: 39}\n",
      "            |- Split(feature=2, value=4.1248, score=0.9847), Classes: {0: 2647, 1: 25}\n",
      "            |  |- 0, Classes: {0: 2643, 1: 18}\n",
      "            |  `- 1, Classes: {1: 7, 0: 4}\n",
      "            `- Split(feature=25, value=0.3929, score=0.76), Classes: {1: 14, 0: 21}\n",
      "               |- 1, Classes: {1: 12, 0: 3}\n",
      "               `- 0, Classes: {0: 18, 1: 2}\n"
     ]
    },
    {
     "data": {
      "text/plain": [
       "\n",
       "Decision tree trained with 5998 samples, 2 classes"
      ]
     },
     "execution_count": 46,
     "metadata": {},
     "output_type": "execute_result"
    }
   ],
   "source": [
    "# Single model training for visualisation of the architecture.\n",
    "new_scaled, new_labels = unison_shuffled_copies(scaled_transfrom, labels)\n",
    "dt = tr.DecisionTree(new_scaled, new_labels, tr.CostFunction.gini, 5)\n",
    "dt"
   ]
  },
  {
   "cell_type": "markdown",
   "metadata": {},
   "source": [
    "Then, we define a cross-validation function for the trees classifiers."
   ]
  },
  {
   "cell_type": "code",
   "execution_count": 47,
   "metadata": {},
   "outputs": [],
   "source": [
    "# 10-fold cross-validation for decision trees.\n",
    "def dt_10fold(depth):\n",
    "    # Shuffles dataset.\n",
    "    new_scaled, new_labels = unison_shuffled_copies(scaled_transfrom, labels)\n",
    "    n = len(new_scaled) / 10  # Size of fold.\n",
    "    tot_result = 0\n",
    "    # Trains and test on each fold.\n",
    "    for i in range(10):\n",
    "        # Training data and labels.\n",
    "        x_train_2 = np.concatenate((new_scaled[0:int(i * n)], new_scaled[int((i+1) * n):]), axis=0)\n",
    "        x_labs_train = np.concatenate((new_labels[0:int(i * n)], new_labels[int((i+1) * n):]), axis=0)\n",
    "        # Test data and labels.\n",
    "        x_test_2 = new_scaled[int(i * n):int((i+1) * n)]\n",
    "        x_labs_test = new_labels[int(i * n):int((i+1) * n)]\n",
    "        # Model generation.\n",
    "        dt = tr.DecisionTree(x_train_2, x_labs_train, tr.CostFunction.gini, depth)\n",
    "        result = 0  # Fold result init.\n",
    "        for elt, lab in zip(x_test_2, x_labs_test):\n",
    "            result += dt.predict(elt) == lab\n",
    "            result /= len(x_test_2)\n",
    "            tot_result += result  # Adds fold result to total result.\n",
    "    # Averages the results.\n",
    "    final_res = tot_result / 10\n",
    "    return (final_res)"
   ]
  },
  {
   "cell_type": "markdown",
   "metadata": {},
   "source": [
    "We then try to generate trees with different depths to see how it affects the learning."
   ]
  },
  {
   "cell_type": "code",
   "execution_count": 48,
   "metadata": {},
   "outputs": [
    {
     "name": "stdout",
     "output_type": "stream",
     "text": [
      "0.9624206485966618\n",
      "0.9764493251495863\n",
      "0.9791187681849822\n",
      "0.9801243460425197\n",
      "0.9811257363195101\n"
     ]
    }
   ],
   "source": [
    "tree_res = []\n",
    "dep = [2, 3, 4, 5, 6]\n",
    "for d in dep:\n",
    "    tree_res.append(dt_10fold(d))\n",
    "    print(tree_res[-1])"
   ]
  },
  {
   "cell_type": "code",
   "execution_count": 49,
   "metadata": {},
   "outputs": [],
   "source": [
    "# Data segmentation, 75% training, 25% test.\n",
    "new_scaled, new_labels = unison_shuffled_copies(scaled_transfrom, labels)\n",
    "training_data, test_data = new_scaled[0:4500], new_scaled[4500:]\n",
    "training_labels, test_labels = new_labels[0:4500], new_labels[4500:]"
   ]
  },
  {
   "cell_type": "code",
   "execution_count": 50,
   "metadata": {},
   "outputs": [],
   "source": [
    "# Random forest\n",
    "predictions = [Counter({0: 0, 1: 0}) for elt in test_data]\n",
    "for i in range(300):\n",
    "    weak_tree = tr.DecisionTree(training_data, training_labels, tr.CostFunction.gini, 5, True)\n",
    "    for j, elt in enumerate(test_data):\n",
    "        y_hat = weak_tree.predict(elt)\n",
    "        predictions[j][y_hat] += 1"
   ]
  },
  {
   "cell_type": "code",
   "execution_count": 51,
   "metadata": {},
   "outputs": [],
   "source": [
    "# Gets the most common prediciton for each point of the test set.\n",
    "final_pred = np.array([elt.most_common(1)[0][0] for elt in predictions])\n",
    "# Compares to true values and get the proportion of correctly predicted.\n",
    "accuracy = sum([true == expected for true, expected in zip(test_labels, final_pred)]) / len(final_pred)"
   ]
  },
  {
   "cell_type": "code",
   "execution_count": 52,
   "metadata": {},
   "outputs": [
    {
     "data": {
      "text/plain": [
       "0.9766355140186916"
      ]
     },
     "execution_count": 52,
     "metadata": {},
     "output_type": "execute_result"
    }
   ],
   "source": [
    "accuracy"
   ]
  },
  {
   "cell_type": "markdown",
   "metadata": {},
   "source": [
    "Accuracy of random forest is still below the neural network's one."
   ]
  },
  {
   "cell_type": "code",
   "execution_count": null,
   "metadata": {},
   "outputs": [],
   "source": []
  }
 ],
 "metadata": {
  "kernelspec": {
   "display_name": "Python 3",
   "language": "python",
   "name": "python3"
  },
  "language_info": {
   "codemirror_mode": {
    "name": "ipython",
    "version": 3
   },
   "file_extension": ".py",
   "mimetype": "text/x-python",
   "name": "python",
   "nbconvert_exporter": "python",
   "pygments_lexer": "ipython3",
   "version": "3.6.9"
  }
 },
 "nbformat": 4,
 "nbformat_minor": 2
}
